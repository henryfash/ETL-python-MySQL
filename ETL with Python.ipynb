{
 "cells": [
  {
   "cell_type": "code",
   "execution_count": 1,
   "id": "99889b2a",
   "metadata": {},
   "outputs": [],
   "source": [
    "# import libraries\n",
    "import requests\n",
    "import tarfile\n",
    "import pandas as pd\n",
    "import mysql.connector as msql"
   ]
  },
  {
   "cell_type": "code",
   "execution_count": 2,
   "id": "91322fdd",
   "metadata": {},
   "outputs": [],
   "source": [
    "\n",
    "def download_file(url):\n",
    "    response = requests.get(url)\n",
    "    with open(\"tolldata.tgz\", \"wb\") as file:\n",
    "        file.write(response.content)\n",
    "\n",
    "def unzip_data(zipfile):\n",
    "    with tarfile.open(zipfile, \"r:gz\") as tar:\n",
    "        tar.extractall()\n",
    "        \n",
    "def extract_from_csv(file):\n",
    "    column_names = ['Rowid', 'Timestamp', 'Anonymized Vehicle number', 'Vehicle type', 'Number of axles','Vehicle code']\n",
    "    df = pd.read_csv(file, names= column_names)\n",
    "    df.drop(['Number of axles','Vehicle code'], axis=1, inplace=True)\n",
    "    return df\n",
    "\n",
    "def extract_from_tsv(file):\n",
    "    column_names = ['Rowid', 'Timestamp', 'Anonymized Vehicle number', 'Vehicle type', 'Number of axles','Tollplaza id', 'Tollplaza code']\n",
    "    df = pd.read_table(file, names = column_names)\n",
    "    df.drop(['Rowid', 'Timestamp', 'Anonymized Vehicle number', 'Vehicle type'], axis=1, inplace=True)\n",
    "    return df\n",
    "    \n",
    "def extract_from_fixed_width_file(file):\n",
    "    df = pd.read_fwf(file, delimiter=' ', header=None)\n",
    "    df = df[[9,10]]\n",
    "    df.rename(columns = {9:'Type of Payment code', 10:'Vehicle Code'}, inplace = True)\n",
    "    return df\n",
    "\n",
    "def combine_dataframe(df1,df2,df3):\n",
    "    df = pd.concat([df1, df2, df3], axis=1)\n",
    "    return df\n",
    "    \n",
    "def transform_data(df):\n",
    "    # change vehicle type to uppercase \n",
    "    df[\"Vehicle type\"] = df[\"Vehicle type\"].apply(lambda x: x.upper())\n",
    "    \n",
    "    # rename the columns\n",
    "    df.rename(columns={'Rowid':'row_id','Timestamp':'timestamp','Anonymized Vehicle number':'anonymized_vehicle_number','Vehicle type':'vehicle_type',\n",
    "                        'Number of axles':'number_of_axles','Tollplaza id':'tollplaza_id','Tollplaza code':'tollplaza_code',\n",
    "                        'Type of Payment code':'type_of_payment_code','Vehicle Code':'vehicle_code'}, inplace=True)\n",
    "    \n",
    "    # convert to the correct datatype\n",
    "    df[['anonymized_vehicle_number','tollplaza_id']] = df[['anonymized_vehicle_number','tollplaza_id']].astype(str)\n",
    "    df['timestamp'] = df.timestamp.astype('datetime64[ns]')\n",
    "    \n",
    "    return df\n",
    "    \n",
    "def load_data_to_mysql_db(df):\n",
    "    try:\n",
    "        # create MySQL connection\n",
    "        conn = msql.connect(host=\"localhost\",user =\"root\",password=\"<password>\")\n",
    "\n",
    "        # create database\n",
    "        cursor = conn.cursor()\n",
    "        cursor.execute(\"CREATE DATABASE IF NOT EXISTS traffic_data\")\n",
    "        print(\"Database was created\")\n",
    "\n",
    "\n",
    "        # connect to database\n",
    "        try:\n",
    "            db_config = {\n",
    "            \"host\": \"localhost\",\n",
    "            \"user\": \"root\",\n",
    "            \"password\": \"<password>\",\n",
    "            \"database\": \"traffic_data\"\n",
    "            }\n",
    "\n",
    "            # Create a MySQL connection\n",
    "            conn = msql.connect(**db_config)\n",
    "            cursor = conn.cursor()\n",
    "            print(\"Connect to DB successfully\")\n",
    "\n",
    "            # create table\n",
    "            try:\n",
    "                cursor.execute(\"CREATE TABLE IF NOT EXISTS toll_data \\\n",
    "                               (row_id int(10) PRIMARY KEY, timestamp datetime, anonymized_vehicle_number varchar(25),\\\n",
    "                                vehicle_type varchar(10), number_of_axles int(10), tollplaza_id varchar(10), \\\n",
    "                                tollplaza_code varchar(10), type_of_payment_code varchar(10), vehicle_code varchar(10))\")\n",
    "                print(\"Table was created\")\n",
    "              \n",
    "                # loop through the dataframe\n",
    "                print(\"Inserting data into table...\")\n",
    "                for i,row in df.iterrows(): \n",
    "                    sql = \"INSERT INTO traffic_data.toll_data VALUES (%s,%s,%s,%s,%s,%s,%s,%s,%s)\"\n",
    "                    \n",
    "                    # insert rows into table\n",
    "                    cursor.execute(sql, tuple(row))\n",
    "                    conn.commit() # commit to save changes\n",
    "                print(f\"{i+1} rows were inserted\")\n",
    "                              \n",
    "            except msql.Error as err:\n",
    "                print(f\"Error: {err}\")\n",
    "\n",
    "        except msql.Error as err:\n",
    "            print(f\"Error: {err}\")\n",
    "\n",
    "    except msql.Error as err:\n",
    "        print(f\"Error: {err}\")\n",
    "    \n",
    "    \n",
    "    finally:\n",
    "        if 'conn' in locals() and conn.is_connected():\n",
    "            cursor.close()\n",
    "            conn.close()\n",
    "            print(\"MySQL connection closed.\")\n"
   ]
  },
  {
   "cell_type": "markdown",
   "id": "4f693205",
   "metadata": {},
   "source": [
    "### 1. Download file"
   ]
  },
  {
   "cell_type": "code",
   "execution_count": 3,
   "id": "7b5bae9b",
   "metadata": {},
   "outputs": [],
   "source": [
    "url = \"https://cf-courses-data.s3.us.cloud-object-storage.appdomain.cloud/IBM-DB0250EN-SkillsNetwork/labs/Final%20Assignment/tolldata.tgz\"\n",
    "\n",
    "download_file(url)"
   ]
  },
  {
   "cell_type": "markdown",
   "id": "d21ec94e",
   "metadata": {},
   "source": [
    "### 2. Unzip file"
   ]
  },
  {
   "cell_type": "code",
   "execution_count": 4,
   "id": "cdec477f",
   "metadata": {},
   "outputs": [],
   "source": [
    "file = \"tolldata.tgz\"\n",
    "\n",
    "unzip_data(file)"
   ]
  },
  {
   "cell_type": "markdown",
   "id": "cbe857ee",
   "metadata": {},
   "source": [
    "### 3. Extraction"
   ]
  },
  {
   "cell_type": "code",
   "execution_count": 5,
   "id": "96d5dc25",
   "metadata": {},
   "outputs": [],
   "source": [
    "df1 = extract_from_csv('vehicle-data.csv')\n",
    "df2 = extract_from_tsv('tollplaza-data.tsv')\n",
    "df3 = extract_from_fixed_width_file('payment-data.txt')"
   ]
  },
  {
   "cell_type": "markdown",
   "id": "179a5cd0",
   "metadata": {},
   "source": [
    "### 4. Combine all 3 dataframe"
   ]
  },
  {
   "cell_type": "code",
   "execution_count": 6,
   "id": "57b7118e",
   "metadata": {},
   "outputs": [],
   "source": [
    "combined_df = combine_dataframe(df1,df2,df3)"
   ]
  },
  {
   "cell_type": "markdown",
   "id": "6940c369",
   "metadata": {},
   "source": [
    "### 5. Transformation"
   ]
  },
  {
   "cell_type": "code",
   "execution_count": 7,
   "id": "a6dcb135",
   "metadata": {},
   "outputs": [],
   "source": [
    "transformed_df = transform_data(combined_df)"
   ]
  },
  {
   "cell_type": "markdown",
   "id": "026199cc",
   "metadata": {},
   "source": [
    "### 6. Load"
   ]
  },
  {
   "cell_type": "code",
   "execution_count": 11,
   "id": "44796485",
   "metadata": {
    "scrolled": true
   },
   "outputs": [
    {
     "name": "stdout",
     "output_type": "stream",
     "text": [
      "Database was created\n",
      "Connect to DB successfully\n",
      "Table was created\n",
      "Inserting data into table...\n",
      "50 rows were inserted\n",
      "MySQL connection closed.\n"
     ]
    }
   ],
   "source": [
    "load_data_to_mysql_db(transformed_df.head(50))"
   ]
  },
  {
   "cell_type": "code",
   "execution_count": null,
   "id": "1ea41156",
   "metadata": {},
   "outputs": [],
   "source": []
  }
 ],
 "metadata": {
  "kernelspec": {
   "display_name": "Python 3 (ipykernel)",
   "language": "python",
   "name": "python3"
  },
  "language_info": {
   "codemirror_mode": {
    "name": "ipython",
    "version": 3
   },
   "file_extension": ".py",
   "mimetype": "text/x-python",
   "name": "python",
   "nbconvert_exporter": "python",
   "pygments_lexer": "ipython3",
   "version": "3.9.12"
  }
 },
 "nbformat": 4,
 "nbformat_minor": 5
}
